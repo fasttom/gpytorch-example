{
 "cells": [
  {
   "cell_type": "markdown",
   "metadata": {},
   "source": [
    "# Metrics in GPyTorch\n",
    "\n",
    "In this notebook, we will see how to evaluate GPyTorch models with probabilistic metrics. \n",
    "\n",
    "**Note:** It is encouraged to check the Simple GP Regression notebook first if not done already. We'll reuse most of the code from there.\n",
    "\n",
    "We'll be modeling the function\n",
    "\n",
    "$$\n",
    "\\begin{align}\n",
    "  y &= \\sin(2\\pi x) + \\epsilon \\\\\n",
    "  \\epsilon &\\sim \\mathcal{N}(0, 0.04) \n",
    "\\end{align}\n",
    "$$\n"
   ]
  },
  {
   "cell_type": "code",
   "execution_count": 1,
   "metadata": {},
   "outputs": [],
   "source": [
    "import math\n",
    "import torch\n",
    "import gpytorch\n",
    "from matplotlib import pyplot as plt\n",
    "\n",
    "%matplotlib inline\n",
    "%load_ext autoreload\n",
    "%autoreload 2"
   ]
  },
  {
   "cell_type": "markdown",
   "metadata": {},
   "source": [
    "In the next cell, we set up the train and test data."
   ]
  },
  {
   "cell_type": "code",
   "execution_count": 2,
   "metadata": {},
   "outputs": [],
   "source": [
    "# Training data is 100 points in [0,1] inclusive regularly spaced\n",
    "train_x = torch.linspace(0, 1, 100)\n",
    "# True function is sin(2*pi*x) with Gaussian noise\n",
    "train_y = torch.sin(train_x * (2 * math.pi)) + torch.randn(train_x.size()) * math.sqrt(0.04)\n",
    "\n",
    "test_x = torch.linspace(0, 1, 51)\n",
    "test_y = torch.sin(test_x * (2 * math.pi)) + torch.randn(test_x.size()) * math.sqrt(0.04)"
   ]
  },
  {
   "cell_type": "markdown",
   "metadata": {},
   "source": [
    "In the next cell, we define a simple GP regression model."
   ]
  },
  {
   "cell_type": "code",
   "execution_count": 4,
   "metadata": {},
   "outputs": [],
   "source": [
    "# We will use the simplest form of GP model, exact inference\n",
    "class ExactGPModel(gpytorch.models.ExactGP):\n",
    "    def __init__(self, train_x, train_y, likelihood):\n",
    "        super(ExactGPModel, self).__init__(train_x, train_y, likelihood)\n",
    "        self.mean_module = gpytorch.means.ConstantMean()\n",
    "        self.covar_module = gpytorch.kernels.ScaleKernel(gpytorch.kernels.RBFKernel())\n",
    "    \n",
    "    def forward(self, x):\n",
    "        mean_x = self.mean_module(x)\n",
    "        covar_x = self.covar_module(x)\n",
    "        return gpytorch.distributions.MultivariateNormal(mean_x, covar_x)\n",
    "\n",
    "# initialize likelihood and model\n",
    "likelihood = gpytorch.likelihoods.GaussianLikelihood()\n",
    "model = ExactGPModel(train_x, train_y, likelihood)"
   ]
  },
  {
   "cell_type": "markdown",
   "metadata": {},
   "source": [
    "Our model is ready for hyperparameter learning, but, first let us check how it performs on the test data."
   ]
  },
  {
   "cell_type": "code",
   "execution_count": 5,
   "metadata": {},
   "outputs": [
    {
     "data": {
      "image/png": "[encoded data removed]",
      "text/plain": [
       "<Figure size 400x300 with 1 Axes>"
      ]
     },
     "metadata": {},
     "output_type": "display_data"
    }
   ],
   "source": [
    "model.eval()\n",
    "with torch.no_grad():\n",
    "    untrained_pred_dist = likelihood(model(test_x))\n",
    "    predictive_mean = untrained_pred_dist.mean\n",
    "    lower, upper = untrained_pred_dist.confidence_region()\n",
    "    \n",
    "f, ax = plt.subplots(1, 1, figsize=(4, 3))\n",
    "# Plot training data as black stars\n",
    "ax.plot(train_x, train_y, 'k*')\n",
    "# Plot predictive means as blue line\n",
    "ax.plot(test_x, predictive_mean, 'b')\n",
    "# Shade between the lower and upper confidence bounds\n",
    "ax.fill_between(test_x, lower, upper, alpha=0.5)\n",
    "ax.set_ylim([-3, 3])\n",
    "ax.legend(['Observed Data', 'Mean', 'Confidence'], bbox_to_anchor=(1.6,1));"
   ]
  },
  {
   "cell_type": "markdown",
   "metadata": {},
   "source": [
    "Visually, this does not look like a good fit. Now, let us train the model hyperparameters."
   ]
  },
  {
   "cell_type": "code",
   "execution_count": 6,
   "metadata": {},
   "outputs": [
    {
     "name": "stdout",
     "output_type": "stream",
     "text": [
      "Iter 1/50 - Loss: 0.914   lengthscale: 0.693   noise: 0.693\n",
      "Iter 2/50 - Loss: 0.882   lengthscale: 0.644   noise: 0.644\n",
      "Iter 3/50 - Loss: 0.848   lengthscale: 0.598   noise: 0.598\n",
      "Iter 4/50 - Loss: 0.811   lengthscale: 0.555   noise: 0.554\n",
      "Iter 5/50 - Loss: 0.770   lengthscale: 0.514   noise: 0.513\n",
      "Iter 6/50 - Loss: 0.725   lengthscale: 0.475   noise: 0.474\n",
      "Iter 7/50 - Loss: 0.678   lengthscale: 0.439   noise: 0.437\n",
      "Iter 8/50 - Loss: 0.629   lengthscale: 0.404   noise: 0.402\n",
      "Iter 9/50 - Loss: 0.583   lengthscale: 0.372   noise: 0.370\n",
      "Iter 10/50 - Loss: 0.540   lengthscale: 0.342   noise: 0.339\n",
      "Iter 11/50 - Loss: 0.501   lengthscale: 0.315   noise: 0.311\n",
      "Iter 12/50 - Loss: 0.464   lengthscale: 0.292   noise: 0.284\n",
      "Iter 13/50 - Loss: 0.429   lengthscale: 0.273   noise: 0.260\n",
      "Iter 14/50 - Loss: 0.395   lengthscale: 0.258   noise: 0.237\n",
      "Iter 15/50 - Loss: 0.361   lengthscale: 0.245   noise: 0.216\n",
      "Iter 16/50 - Loss: 0.328   lengthscale: 0.236   noise: 0.197\n",
      "Iter 17/50 - Loss: 0.294   lengthscale: 0.230   noise: 0.179\n",
      "Iter 18/50 - Loss: 0.261   lengthscale: 0.226   noise: 0.163\n",
      "Iter 19/50 - Loss: 0.228   lengthscale: 0.224   noise: 0.148\n",
      "Iter 20/50 - Loss: 0.195   lengthscale: 0.224   noise: 0.135\n",
      "Iter 21/50 - Loss: 0.163   lengthscale: 0.226   noise: 0.123\n",
      "Iter 22/50 - Loss: 0.132   lengthscale: 0.230   noise: 0.112\n",
      "Iter 23/50 - Loss: 0.102   lengthscale: 0.234   noise: 0.102\n",
      "Iter 24/50 - Loss: 0.074   lengthscale: 0.240   noise: 0.092\n",
      "Iter 25/50 - Loss: 0.048   lengthscale: 0.248   noise: 0.084\n",
      "Iter 26/50 - Loss: 0.024   lengthscale: 0.256   noise: 0.077\n",
      "Iter 27/50 - Loss: 0.002   lengthscale: 0.265   noise: 0.070\n",
      "Iter 28/50 - Loss: -0.016   lengthscale: 0.274   noise: 0.064\n",
      "Iter 29/50 - Loss: -0.031   lengthscale: 0.283   noise: 0.059\n",
      "Iter 30/50 - Loss: -0.043   lengthscale: 0.292   noise: 0.054\n",
      "Iter 31/50 - Loss: -0.052   lengthscale: 0.301   noise: 0.050\n",
      "Iter 32/50 - Loss: -0.057   lengthscale: 0.307   noise: 0.046\n",
      "Iter 33/50 - Loss: -0.060   lengthscale: 0.312   noise: 0.043\n",
      "Iter 34/50 - Loss: -0.061   lengthscale: 0.314   noise: 0.040\n",
      "Iter 35/50 - Loss: -0.060   lengthscale: 0.314   noise: 0.038\n",
      "Iter 36/50 - Loss: -0.059   lengthscale: 0.311   noise: 0.036\n",
      "Iter 37/50 - Loss: -0.056   lengthscale: 0.306   noise: 0.034\n",
      "Iter 38/50 - Loss: -0.054   lengthscale: 0.300   noise: 0.033\n",
      "Iter 39/50 - Loss: -0.051   lengthscale: 0.293   noise: 0.032\n",
      "Iter 40/50 - Loss: -0.048   lengthscale: 0.287   noise: 0.031\n",
      "Iter 41/50 - Loss: -0.045   lengthscale: 0.280   noise: 0.030\n",
      "Iter 42/50 - Loss: -0.043   lengthscale: 0.275   noise: 0.030\n",
      "Iter 43/50 - Loss: -0.042   lengthscale: 0.270   noise: 0.030\n",
      "Iter 44/50 - Loss: -0.042   lengthscale: 0.266   noise: 0.030\n",
      "Iter 45/50 - Loss: -0.043   lengthscale: 0.264   noise: 0.030\n",
      "Iter 46/50 - Loss: -0.045   lengthscale: 0.262   noise: 0.031\n",
      "Iter 47/50 - Loss: -0.048   lengthscale: 0.261   noise: 0.031\n",
      "Iter 48/50 - Loss: -0.050   lengthscale: 0.262   noise: 0.032\n",
      "Iter 49/50 - Loss: -0.053   lengthscale: 0.263   noise: 0.032\n",
      "Iter 50/50 - Loss: -0.056   lengthscale: 0.265   noise: 0.033\n"
     ]
    }
   ],
   "source": [
    "# this is for running the notebook in our testing framework\n",
    "import os\n",
    "smoke_test = ('CI' in os.environ)\n",
    "training_iter = 2 if smoke_test else 50\n",
    "\n",
    "\n",
    "# Find optimal model hyperparameters\n",
    "model.train()\n",
    "\n",
    "# Use the adam optimizer\n",
    "optimizer = torch.optim.Adam(model.parameters(), lr=0.1)  # Includes GaussianLikelihood parameters\n",
    "\n",
    "# \"Loss\" for GPs - the marginal log likelihood\n",
    "mll = gpytorch.mlls.ExactMarginalLogLikelihood(likelihood, model)\n",
    "\n",
    "for i in range(training_iter):\n",
    "    # Zero gradients from previous iteration\n",
    "    optimizer.zero_grad()\n",
    "    # Output from model\n",
    "    output = model(train_x)\n",
    "    # Calc loss and backprop gradients\n",
    "    loss = -mll(output, train_y)\n",
    "    loss.backward()\n",
    "    print('Iter %d/%d - Loss: %.3f   lengthscale: %.3f   noise: %.3f' % (\n",
    "        i + 1, training_iter, loss.item(),\n",
    "        model.covar_module.base_kernel.lengthscale.item(),\n",
    "        model.likelihood.noise.item()\n",
    "    ))\n",
    "    optimizer.step()"
   ]
  },
  {
   "cell_type": "markdown",
   "metadata": {},
   "source": [
    "In the next cell, we reevaluate the model on the test data."
   ]
  },
  {
   "cell_type": "code",
   "execution_count": 7,
   "metadata": {},
   "outputs": [
    {
     "data": {
      "image/png": "[encoded data removed]",
      "text/plain": [
       "<Figure size 400x300 with 1 Axes>"
      ]
     },
     "metadata": {},
     "output_type": "display_data"
    }
   ],
   "source": [
    "model.eval()\n",
    "with torch.no_grad():\n",
    "    trained_pred_dist = likelihood(model(test_x))\n",
    "    predictive_mean = trained_pred_dist.mean\n",
    "    lower, upper = trained_pred_dist.confidence_region()\n",
    "    \n",
    "f, ax = plt.subplots(1, 1, figsize=(4, 3))\n",
    "# Plot training data as black stars\n",
    "ax.plot(train_x, train_y, 'k*')\n",
    "# Plot predictive means as blue line\n",
    "ax.plot(test_x, predictive_mean, 'b')\n",
    "# Shade between the lower and upper confidence bounds\n",
    "ax.fill_between(test_x, lower, upper, alpha=0.5)\n",
    "ax.set_ylim([-3, 3])\n",
    "ax.legend(['Observed Data', 'Mean', 'Confidence'], bbox_to_anchor=(1.6,1));"
   ]
  },
  {
   "cell_type": "markdown",
   "metadata": {},
   "source": [
    "Now our model seems to fit well on the data. It is not always possible to visually evaluate the model in high dimensional cases. Thus, now we evaluate the models with help of probabilistic metrics. We have saved predictive distributions from untrained and trained models as `untrained_pred_dist` and `trained_pred_dist` respectively."
   ]
  },
  {
   "cell_type": "markdown",
   "metadata": {},
   "source": [
    "## Negative Log Predictive Density (NLPD)\n",
    "\n",
    "Negative Log Predictive Density (NLPD) is the most standard probabilistic metric for evaluating GP models. In simple terms, it is negative log likelihood of the test data given the predictive distribution. It can be computed as follows:"
   ]
  },
  {
   "cell_type": "code",
   "execution_count": 10,
   "metadata": {},
   "outputs": [
    {
     "name": "stdout",
     "output_type": "stream",
     "text": [
      "Untrained model NLPD: 0.88, \n",
      "Trained model NLPD: -0.27\n"
     ]
    }
   ],
   "source": [
    "init_nlpd = gpytorch.metrics.negative_log_predictive_density(untrained_pred_dist, test_y)\n",
    "final_nlpd = gpytorch.metrics.negative_log_predictive_density(trained_pred_dist, test_y)\n",
    "\n",
    "print(f'Untrained model NLPD: {init_nlpd:.2f}, \\nTrained model NLPD: {final_nlpd:.2f}')"
   ]
  },
  {
   "cell_type": "markdown",
   "metadata": {},
   "source": [
    "## Mean Standardized Log Loss (MSLL)\n",
    "\n",
    "This metric computes average negative log likelihood of all test points w.r.t their univariate predicitve densities. For more details, see \"page No. 23, Gaussian Processes for Machine Learning, Carl Edward Rasmussen and Christopher K. I. Williams, The MIT Press, 2006. ISBN 0-262-18253-X\""
   ]
  },
  {
   "cell_type": "code",
   "execution_count": 11,
   "metadata": {},
   "outputs": [
    {
     "name": "stdout",
     "output_type": "stream",
     "text": [
      "Untrained model MSLL: 0.88, \n",
      "Trained model MSLL: -0.28\n"
     ]
    }
   ],
   "source": [
    "init_msll = gpytorch.metrics.mean_standardized_log_loss(untrained_pred_dist, test_y)\n",
    "final_msll = gpytorch.metrics.mean_standardized_log_loss(trained_pred_dist, test_y)\n",
    "\n",
    "print(f'Untrained model MSLL: {init_msll:.2f}, \\nTrained model MSLL: {final_msll:.2f}')"
   ]
  },
  {
   "cell_type": "markdown",
   "metadata": {},
   "source": [
    "It is also possible to calculate the quantile coverage error with `gpytorch.metrics.quantile_coverage_error` function."
   ]
  },
  {
   "cell_type": "code",
   "execution_count": 12,
   "metadata": {},
   "outputs": [
    {
     "name": "stdout",
     "output_type": "stream",
     "text": [
      "Quantile 95% Coverage Error: 0.01\n"
     ]
    }
   ],
   "source": [
    "quantile = 95\n",
    "qce = gpytorch.metrics.quantile_coverage_error(trained_pred_dist, test_y, quantile=quantile)\n",
    "print(f'Quantile {quantile}% Coverage Error: {qce:.2f}')"
   ]
  },
  {
   "cell_type": "markdown",
   "metadata": {},
   "source": [
    "## Mean Squared Error (MSE)\n",
    "\n",
    "Mean Squared Error (MSE) is the mean of the squared difference between the test observations and the predictive mean. It is a well-known conventional metric for evaluating regression models. However, it can not take uncertainty into account unlike NLPD, MLSS and ACE."
   ]
  },
  {
   "cell_type": "code",
   "execution_count": 13,
   "metadata": {},
   "outputs": [
    {
     "name": "stdout",
     "output_type": "stream",
     "text": [
      "Untrained model MSE: 0.19, \n",
      "Trained model MSE: 0.03\n"
     ]
    }
   ],
   "source": [
    "init_mse = gpytorch.metrics.mean_squared_error(untrained_pred_dist, test_y, squared=True)\n",
    "final_mse = gpytorch.metrics.mean_squared_error(trained_pred_dist, test_y, squared=True)\n",
    "\n",
    "print(f'Untrained model MSE: {init_mse:.2f}, \\nTrained model MSE: {final_mse:.2f}')"
   ]
  },
  {
   "cell_type": "markdown",
   "metadata": {},
   "source": [
    "## Mean Absolute Error (MAE)\n",
    "\n",
    "Mean Absolute Error (MAE) is the mean of the absolute difference between the test observations and the predictive mean. It is less sensitive to the outliers than MSE."
   ]
  },
  {
   "cell_type": "code",
   "execution_count": 14,
   "metadata": {},
   "outputs": [
    {
     "name": "stdout",
     "output_type": "stream",
     "text": [
      "Untrained model MAE: 0.39, \n",
      "Trained model MAE: 0.14\n"
     ]
    }
   ],
   "source": [
    "init_mae = gpytorch.metrics.mean_absolute_error(untrained_pred_dist, test_y)\n",
    "final_mae = gpytorch.metrics.mean_absolute_error(trained_pred_dist, test_y)\n",
    "\n",
    "print(f'Untrained model MAE: {init_mae:.2f}, \\nTrained model MAE: {final_mae:.2f}')"
   ]
  }
 ],
 "metadata": {
  "interpreter": {
   "hash": "d4d1e4263499bec80672ea0156c357c1ee493ec2b1c70f0acce89fc37c4a6abe"
  },
  "kernelspec": {
   "display_name": "Python 3 (ipykernel)",
   "language": "python",
   "name": "python3"
  },
  "language_info": {
   "codemirror_mode": {
    "name": "ipython",
    "version": 3
   },
   "file_extension": ".py",
   "mimetype": "text/x-python",
   "name": "python",
   "nbconvert_exporter": "python",
   "pygments_lexer": "ipython3",
   "version": "3.12.1"
  }
 },
 "nbformat": 4,
 "nbformat_minor": 2
}
